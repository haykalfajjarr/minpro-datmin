{
  "nbformat": 4,
  "nbformat_minor": 0,
  "metadata": {
    "colab": {
      "provenance": [],
      "toc_visible": true,
      "authorship_tag": "ABX9TyO+vQiLbk+LjveVrmkMx1iG",
      "include_colab_link": true
    },
    "kernelspec": {
      "name": "python3",
      "display_name": "Python 3"
    },
    "language_info": {
      "name": "python"
    }
  },
  "cells": [
    {
      "cell_type": "markdown",
      "metadata": {
        "id": "view-in-github",
        "colab_type": "text"
      },
      "source": [
        "<a href=\"https://colab.research.google.com/github/haykalfajjarr/minpro-datmin/blob/main/Minpro_Data_Mining_Tahap_1.ipynb\" target=\"_parent\"><img src=\"https://colab.research.google.com/assets/colab-badge.svg\" alt=\"Open In Colab\"/></a>"
      ]
    },
    {
      "cell_type": "markdown",
      "source": [
        "# **Aproved Premium Insurance Prediction**!"
      ],
      "metadata": {
        "id": "NWDZy8G6KL1m"
      }
    },
    {
      "cell_type": "markdown",
      "source": [
        "#**Import Library**"
      ],
      "metadata": {
        "id": "w7t7rucqKNLk"
      }
    },
    {
      "cell_type": "markdown",
      "source": [
        "\n",
        "# **Business Understanding**\n"
      ],
      "metadata": {
        "id": "e1eqtc2_KSTG"
      }
    },
    {
      "cell_type": "markdown",
      "source": [
        "## **Business Objective**\n",
        "\n",
        "Tujuan bisnis dari dataset ini adalah untuk menganalisis faktor-faktor yang mempengaruhi premi asuransi kesehatan. Hal ini dapat membantu perusahaan asuransi untuk:\n",
        "\n",
        "Menetapkan premi yang lebih akurat dan kompetitif\n",
        "Meningkatkan pemahaman tentang risiko yang terkait dengan berbagai kelompok pemohon\n",
        "Mengembangkan produk dan layanan asuransi yang lebih sesuai dengan kebutuhan pelanggan\n",
        "\n",
        "\n",
        "\n"
      ],
      "metadata": {
        "id": "ms0OVIDOKU2f"
      }
    },
    {
      "cell_type": "markdown",
      "source": [
        "## **Access Situation**\n",
        "\n",
        "Premi asuransi kesehatan terus meningkat dalam beberapa tahun terakhir. Hal ini disebabkan oleh berbagai faktor, termasuk:\n",
        "\n",
        "* Biaya perawatan kesehatan yang semakin mahal\n",
        "* Bertambahnya jumlah orang yang memiliki penyakit kronis\n",
        "* Penuaan populasi\n",
        "\n",
        "Perusahaan asuransi perlu menemukan cara untuk mengelola biaya premi mereka agar tetap kompetitif. Salah satu cara untuk melakukannya adalah dengan menggunakan data untuk memprediksi risiko yang terkait dengan berbagai kelompok yang mengajukan.\n",
        "\n",
        "\n"
      ],
      "metadata": {
        "id": "RKPjnqlBKY6a"
      }
    },
    {
      "cell_type": "markdown",
      "source": [
        "## **Data Mining Goals**\n",
        "\n",
        "Tujuan dari Data Mining pada dataset ini adalah untuk\n",
        "memprediksi premi asuransi kesehatan berdasarkan faktor-faktor yang mempengaruhi.\n",
        "\n",
        "Menganalisis faktor-faktor yang mempengaruhi premi asuransi kesehatan\n",
        "Meningkatkan pemahaman tentang profil risiko berbagai kelompok yang mengajukan.\n",
        "\n",
        "\n"
      ],
      "metadata": {
        "id": "UXKq6pA-Ka2h"
      }
    },
    {
      "cell_type": "markdown",
      "source": [
        "## **Project Plan**\n",
        "\n",
        "Rencana proyek untuk menganalisis dataset ini dimulai dengan pengumpulan data dari sumber yang tersedia.\n",
        "\n",
        "Selanjutnya, data akan dijelaskan karakteristiknya dan pola-pola yang menarik diidentifikasi.\n",
        "\n",
        "Data kemudian dieksplorasi untuk mengidentifikasi korelasi dan hubungan antar variabel.\n",
        "\n",
        "Selain itu, kualitas data akan dinilai dan masalah data akan diidentifikasi agar dapat diatasi dalam tahapan berikutnya."
      ],
      "metadata": {
        "id": "7bs2VOW1KkoY"
      }
    },
    {
      "cell_type": "markdown",
      "source": [
        "# **TANGGAL PENGERJAAN**\n",
        "## **26 Februari 2024**\n",
        "[BUKTI PENGERJAAN](https://drive.google.com/file/d/1Od3PcEV7jMjkcN4vDb80iRTHv6BLnAnk/view?usp=sharing)"
      ],
      "metadata": {
        "id": "mN0yYOQKKqR6"
      }
    }
  ]
}